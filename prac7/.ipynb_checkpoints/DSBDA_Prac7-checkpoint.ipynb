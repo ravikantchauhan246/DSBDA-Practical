{
 "cells": [
  {
   "cell_type": "code",
   "execution_count": 16,
   "id": "bfacfdf0-4eee-43d4-b2ba-1f5f1f67b008",
   "metadata": {},
   "outputs": [
    {
     "name": "stderr",
     "output_type": "stream",
     "text": [
      "[nltk_data] Downloading package punkt to\n",
      "[nltk_data]     C:\\Users\\ASHUU\\AppData\\Roaming\\nltk_data...\n",
      "[nltk_data]   Package punkt is already up-to-date!\n"
     ]
    },
    {
     "data": {
      "text/plain": [
       "True"
      ]
     },
     "execution_count": 16,
     "metadata": {},
     "output_type": "execute_result"
    }
   ],
   "source": [
    "import nltk\n",
    "nltk.download('punkt')"
   ]
  },
  {
   "cell_type": "code",
   "execution_count": 17,
   "id": "30e7386f",
   "metadata": {
    "id": "30e7386f"
   },
   "outputs": [
    {
     "name": "stdout",
     "output_type": "stream",
     "text": [
      "['Welcome', 'to', 'the', 'Python', 'Programming', 'at', 'Indeed', 'Insprining', 'Infotech']\n"
     ]
    }
   ],
   "source": [
    "from nltk.tokenize import word_tokenize\n",
    "text1 = \"Welcome to the Python Programming at Indeed Insprining Infotech\"\n",
    "print(word_tokenize(text1))"
   ]
  },
  {
   "cell_type": "code",
   "execution_count": 6,
   "id": "c00a2c90",
   "metadata": {
    "id": "c00a2c90"
   },
   "outputs": [
    {
     "name": "stdout",
     "output_type": "stream",
     "text": [
      "['Hello Everyone.', 'Welcome to the Python Programming']\n"
     ]
    }
   ],
   "source": [
    "from nltk.tokenize import sent_tokenize\n",
    "text2 = \"Hello Everyone. Welcome to the Python Programming\"\n",
    "print(sent_tokenize(text2))"
   ]
  },
  {
   "cell_type": "code",
   "execution_count": 18,
   "id": "484f9a1a",
   "metadata": {
    "id": "484f9a1a"
   },
   "outputs": [
    {
     "name": "stdout",
     "output_type": "stream",
     "text": [
      "welcom\n",
      "to\n",
      "the\n",
      "python\n",
      "program\n",
      "at\n",
      "inde\n",
      "insprin\n",
      "infotech\n"
     ]
    }
   ],
   "source": [
    "from nltk.stem import PorterStemmer\n",
    "ps = PorterStemmer()\n",
    "for w in word_tokenize(text1):\n",
    "    words=ps.stem(w)\n",
    "    print(words)"
   ]
  },
  {
   "cell_type": "code",
   "execution_count": 19,
   "id": "Z1b39DQqtz27",
   "metadata": {
    "id": "Z1b39DQqtz27"
   },
   "outputs": [
    {
     "name": "stderr",
     "output_type": "stream",
     "text": [
      "[nltk_data] Downloading package wordnet to\n",
      "[nltk_data]     C:\\Users\\ASHUU\\AppData\\Roaming\\nltk_data...\n",
      "[nltk_data]   Package wordnet is already up-to-date!\n",
      "[nltk_data] Downloading package omw-1.4 to\n",
      "[nltk_data]     C:\\Users\\ASHUU\\AppData\\Roaming\\nltk_data...\n",
      "[nltk_data]   Package omw-1.4 is already up-to-date!\n"
     ]
    },
    {
     "data": {
      "text/plain": [
       "True"
      ]
     },
     "execution_count": 19,
     "metadata": {},
     "output_type": "execute_result"
    }
   ],
   "source": [
    "nltk.download('wordnet')\n",
    "nltk.download('omw-1.4')"
   ]
  },
  {
   "cell_type": "code",
   "execution_count": 20,
   "id": "d2525888",
   "metadata": {
    "id": "d2525888"
   },
   "outputs": [
    {
     "name": "stdout",
     "output_type": "stream",
     "text": [
      "Lemma for  studies is study\n",
      "Lemma for  study is study\n",
      "Lemma for  floors is floor\n",
      "Lemma for  cry is cry\n"
     ]
    }
   ],
   "source": [
    "from nltk.stem import WordNetLemmatizer\n",
    "Wordnet_lemmatizer = WordNetLemmatizer()\n",
    "text  = \"studies study floors cry\"\n",
    "tokenization = nltk.word_tokenize(text)\n",
    "for w in tokenization:\n",
    "    print('Lemma for ', w,'is',Wordnet_lemmatizer.lemmatize(w))"
   ]
  },
  {
   "cell_type": "code",
   "execution_count": 21,
   "id": "IJR_5QtwuDsa",
   "metadata": {
    "id": "IJR_5QtwuDsa"
   },
   "outputs": [
    {
     "name": "stderr",
     "output_type": "stream",
     "text": [
      "[nltk_data] Downloading package stopwords to\n",
      "[nltk_data]     C:\\Users\\ASHUU\\AppData\\Roaming\\nltk_data...\n",
      "[nltk_data]   Package stopwords is already up-to-date!\n"
     ]
    },
    {
     "data": {
      "text/plain": [
       "True"
      ]
     },
     "execution_count": 21,
     "metadata": {},
     "output_type": "execute_result"
    }
   ],
   "source": [
    "nltk.download('stopwords')"
   ]
  },
  {
   "cell_type": "code",
   "execution_count": 22,
   "id": "ae25d08f",
   "metadata": {
    "id": "ae25d08f"
   },
   "outputs": [
    {
     "name": "stdout",
     "output_type": "stream",
     "text": [
      "['AI', 'introduced', 'year', '1956', 'gained', 'popularity', 'recently', '.']\n"
     ]
    }
   ],
   "source": [
    "from nltk.tokenize import sent_tokenize, word_tokenize\n",
    "from nltk.corpus import stopwords\n",
    "\n",
    "data = 'AI was introduced in the year 1956 but it gained popularity recently.'\n",
    "stopwords = set(stopwords.words('english'))\n",
    "words = word_tokenize(data)\n",
    "wordsFiltered = []\n",
    "\n",
    "for w in words:\n",
    "    if w not in stopwords:\n",
    "        wordsFiltered.append(w)\n",
    "        \n",
    "print(wordsFiltered)"
   ]
  },
  {
   "cell_type": "code",
   "execution_count": 23,
   "id": "2c86e8eb",
   "metadata": {
    "executionInfo": {
     "elapsed": 8,
     "status": "ok",
     "timestamp": 1684929017617,
     "user": {
      "displayName": "hardik kotangale",
      "userId": "06213485721285416285"
     },
     "user_tz": -330
    },
    "id": "2c86e8eb"
   },
   "outputs": [],
   "source": [
    "from nltk.tokenize import word_tokenize\n",
    "from nltk.corpus import stopwords\n",
    "from nltk.stem import PorterStemmer, WordNetLemmatizer\n",
    "from nltk import pos_tag"
   ]
  },
  {
   "cell_type": "code",
   "execution_count": 24,
   "id": "984ab773",
   "metadata": {
    "executionInfo": {
     "elapsed": 8,
     "status": "ok",
     "timestamp": 1684929017618,
     "user": {
      "displayName": "hardik kotangale",
      "userId": "06213485721285416285"
     },
     "user_tz": -330
    },
    "id": "984ab773"
   },
   "outputs": [],
   "source": [
    "document = \"This is an example document that we will use to demonstrate document preprocessing.\""
   ]
  },
  {
   "cell_type": "code",
   "execution_count": 25,
   "id": "e2d87a82",
   "metadata": {
    "executionInfo": {
     "elapsed": 8,
     "status": "ok",
     "timestamp": 1684929017618,
     "user": {
      "displayName": "hardik kotangale",
      "userId": "06213485721285416285"
     },
     "user_tz": -330
    },
    "id": "e2d87a82"
   },
   "outputs": [],
   "source": [
    "tokens = word_tokenize(document)"
   ]
  },
  {
   "cell_type": "code",
   "execution_count": 26,
   "id": "ca8b7015",
   "metadata": {
    "id": "ca8b7015"
   },
   "outputs": [
    {
     "data": {
      "text/plain": [
       "['This',\n",
       " 'is',\n",
       " 'an',\n",
       " 'example',\n",
       " 'document',\n",
       " 'that',\n",
       " 'we',\n",
       " 'will',\n",
       " 'use',\n",
       " 'to',\n",
       " 'demonstrate',\n",
       " 'document',\n",
       " 'preprocessing',\n",
       " '.']"
      ]
     },
     "execution_count": 26,
     "metadata": {},
     "output_type": "execute_result"
    }
   ],
   "source": [
    "tokens"
   ]
  },
  {
   "cell_type": "code",
   "execution_count": 27,
   "id": "0e184c68",
   "metadata": {
    "id": "0e184c68"
   },
   "outputs": [
    {
     "name": "stderr",
     "output_type": "stream",
     "text": [
      "[nltk_data] Downloading package averaged_perceptron_tagger to\n",
      "[nltk_data]     C:\\Users\\ASHUU\\AppData\\Roaming\\nltk_data...\n",
      "[nltk_data]   Package averaged_perceptron_tagger is already up-to-\n",
      "[nltk_data]       date!\n"
     ]
    },
    {
     "data": {
      "text/plain": [
       "True"
      ]
     },
     "execution_count": 27,
     "metadata": {},
     "output_type": "execute_result"
    }
   ],
   "source": [
    "import nltk\n",
    "nltk.download('averaged_perceptron_tagger')"
   ]
  },
  {
   "cell_type": "code",
   "execution_count": 28,
   "id": "cc62bc9b",
   "metadata": {
    "executionInfo": {
     "elapsed": 532,
     "status": "ok",
     "timestamp": 1684929018145,
     "user": {
      "displayName": "hardik kotangale",
      "userId": "06213485721285416285"
     },
     "user_tz": -330
    },
    "id": "cc62bc9b"
   },
   "outputs": [],
   "source": [
    "pos_tags = pos_tag(tokens)"
   ]
  },
  {
   "cell_type": "code",
   "execution_count": 29,
   "id": "_O5mmUuouPid",
   "metadata": {
    "id": "_O5mmUuouPid"
   },
   "outputs": [
    {
     "data": {
      "text/plain": [
       "[('This', 'DT'),\n",
       " ('is', 'VBZ'),\n",
       " ('an', 'DT'),\n",
       " ('example', 'NN'),\n",
       " ('document', 'NN'),\n",
       " ('that', 'IN'),\n",
       " ('we', 'PRP'),\n",
       " ('will', 'MD'),\n",
       " ('use', 'VB'),\n",
       " ('to', 'TO'),\n",
       " ('demonstrate', 'VB'),\n",
       " ('document', 'NN'),\n",
       " ('preprocessing', 'NN'),\n",
       " ('.', '.')]"
      ]
     },
     "execution_count": 29,
     "metadata": {},
     "output_type": "execute_result"
    }
   ],
   "source": [
    "pos_tags"
   ]
  },
  {
   "cell_type": "code",
   "execution_count": 32,
   "id": "375692a0",
   "metadata": {
    "executionInfo": {
     "elapsed": 8,
     "status": "ok",
     "timestamp": 1684929018147,
     "user": {
      "displayName": "hardik kotangale",
      "userId": "06213485721285416285"
     },
     "user_tz": -330
    },
    "id": "375692a0"
   },
   "outputs": [],
   "source": [
    "import math\n",
    "from collections import Counter"
   ]
  },
  {
   "cell_type": "code",
   "execution_count": 33,
   "id": "uX0WL3Ma4HTZ",
   "metadata": {
    "executionInfo": {
     "elapsed": 8,
     "status": "ok",
     "timestamp": 1684929018147,
     "user": {
      "displayName": "hardik kotangale",
      "userId": "06213485721285416285"
     },
     "user_tz": -330
    },
    "id": "uX0WL3Ma4HTZ"
   },
   "outputs": [],
   "source": [
    "corpus = [\n",
    "    'The quick brown fox jumps over the lazy dog',\n",
    "    'The brown fox is quick',\n",
    "    'The lazy dog is sleeping'\n",
    "]"
   ]
  },
  {
   "cell_type": "code",
   "execution_count": 34,
   "id": "9iNWSB034S6I",
   "metadata": {
    "executionInfo": {
     "elapsed": 8,
     "status": "ok",
     "timestamp": 1684929018147,
     "user": {
      "displayName": "hardik kotangale",
      "userId": "06213485721285416285"
     },
     "user_tz": -330
    },
    "id": "9iNWSB034S6I"
   },
   "outputs": [],
   "source": [
    "tokenized_docs = [doc.lower().split() for doc in corpus]"
   ]
  },
  {
   "cell_type": "code",
   "execution_count": 35,
   "id": "TO8oDyF_4VR4",
   "metadata": {
    "executionInfo": {
     "elapsed": 8,
     "status": "ok",
     "timestamp": 1684929018147,
     "user": {
      "displayName": "hardik kotangale",
      "userId": "06213485721285416285"
     },
     "user_tz": -330
    },
    "id": "TO8oDyF_4VR4"
   },
   "outputs": [],
   "source": [
    "tf_docs = [Counter(tokens) for tokens in tokenized_docs]"
   ]
  },
  {
   "cell_type": "code",
   "execution_count": 36,
   "id": "mwbYVp9x4Y-B",
   "metadata": {
    "executionInfo": {
     "elapsed": 7,
     "status": "ok",
     "timestamp": 1684929018147,
     "user": {
      "displayName": "hardik kotangale",
      "userId": "06213485721285416285"
     },
     "user_tz": -330
    },
    "id": "mwbYVp9x4Y-B"
   },
   "outputs": [],
   "source": [
    "n_docs = len(corpus)\n",
    "idf = {}\n",
    "for tokens in tokenized_docs:\n",
    "    for token in set(tokens):\n",
    "        idf[token] = idf.get(token, 0) + 1\n",
    "for token in idf:\n",
    "    idf[token] = math.log(n_docs / idf[token])"
   ]
  },
  {
   "cell_type": "code",
   "execution_count": 37,
   "id": "QF1Si3vv4bCE",
   "metadata": {
    "executionInfo": {
     "elapsed": 8,
     "status": "ok",
     "timestamp": 1684929018148,
     "user": {
      "displayName": "hardik kotangale",
      "userId": "06213485721285416285"
     },
     "user_tz": -330
    },
    "id": "QF1Si3vv4bCE"
   },
   "outputs": [],
   "source": [
    "tfidf_docs = []\n",
    "for tf_doc in tf_docs:\n",
    "    tfidf_doc = {}\n",
    "    for token, freq in tf_doc.items():\n",
    "        tfidf_doc[token] = freq * idf[token]\n",
    "    tfidf_docs.append(tfidf_doc)\n"
   ]
  },
  {
   "cell_type": "code",
   "execution_count": 38,
   "id": "cWDMLXpP4cZu",
   "metadata": {
    "id": "cWDMLXpP4cZu"
   },
   "outputs": [
    {
     "name": "stdout",
     "output_type": "stream",
     "text": [
      "Document 1: {'the': 0.0, 'quick': 0.4054651081081644, 'brown': 0.4054651081081644, 'fox': 0.4054651081081644, 'jumps': 1.0986122886681098, 'over': 1.0986122886681098, 'lazy': 0.4054651081081644, 'dog': 0.4054651081081644}\n",
      "Document 2: {'the': 0.0, 'brown': 0.4054651081081644, 'fox': 0.4054651081081644, 'is': 0.4054651081081644, 'quick': 0.4054651081081644}\n",
      "Document 3: {'the': 0.0, 'lazy': 0.4054651081081644, 'dog': 0.4054651081081644, 'is': 0.4054651081081644, 'sleeping': 1.0986122886681098}\n"
     ]
    }
   ],
   "source": [
    "for i, tfidf_doc in enumerate(tfidf_docs):\n",
    "    print(f\"Document {i+1}: {tfidf_doc}\")"
   ]
  },
  {
   "cell_type": "code",
   "execution_count": null,
   "id": "33ad60d1-4d01-4b77-a61f-7ab3d33de636",
   "metadata": {},
   "outputs": [],
   "source": []
  }
 ],
 "metadata": {
  "colab": {
   "provenance": []
  },
  "kernelspec": {
   "display_name": "Python 3 (ipykernel)",
   "language": "python",
   "name": "python3"
  },
  "language_info": {
   "codemirror_mode": {
    "name": "ipython",
    "version": 3
   },
   "file_extension": ".py",
   "mimetype": "text/x-python",
   "name": "python",
   "nbconvert_exporter": "python",
   "pygments_lexer": "ipython3",
   "version": "3.12.1"
  }
 },
 "nbformat": 4,
 "nbformat_minor": 5
}
